{
 "cells": [
  {
   "cell_type": "code",
   "execution_count": 39,
   "id": "19cbbb0a",
   "metadata": {},
   "outputs": [
    {
     "data": {
      "text/html": [
       "<div>\n",
       "<style scoped>\n",
       "    .dataframe tbody tr th:only-of-type {\n",
       "        vertical-align: middle;\n",
       "    }\n",
       "\n",
       "    .dataframe tbody tr th {\n",
       "        vertical-align: top;\n",
       "    }\n",
       "\n",
       "    .dataframe thead th {\n",
       "        text-align: right;\n",
       "    }\n",
       "</style>\n",
       "<table border=\"1\" class=\"dataframe\">\n",
       "  <thead>\n",
       "    <tr style=\"text-align: right;\">\n",
       "      <th></th>\n",
       "      <th>Num_Acc</th>\n",
       "      <th>catr</th>\n",
       "      <th>voie</th>\n",
       "      <th>v1</th>\n",
       "      <th>v2</th>\n",
       "      <th>circ</th>\n",
       "      <th>nbv</th>\n",
       "      <th>vosp</th>\n",
       "      <th>prof</th>\n",
       "      <th>pr</th>\n",
       "      <th>pr1</th>\n",
       "      <th>plan</th>\n",
       "      <th>lartpc</th>\n",
       "      <th>larrout</th>\n",
       "      <th>surf</th>\n",
       "      <th>infra</th>\n",
       "      <th>situ</th>\n",
       "      <th>vma</th>\n",
       "    </tr>\n",
       "  </thead>\n",
       "  <tbody>\n",
       "    <tr>\n",
       "      <th>0</th>\n",
       "      <td>201900000001</td>\n",
       "      <td>1</td>\n",
       "      <td>3</td>\n",
       "      <td>0.0</td>\n",
       "      <td>NaN</td>\n",
       "      <td>3</td>\n",
       "      <td>10</td>\n",
       "      <td>0</td>\n",
       "      <td>1</td>\n",
       "      <td>6</td>\n",
       "      <td>900</td>\n",
       "      <td>2</td>\n",
       "      <td>NaN</td>\n",
       "      <td>NaN</td>\n",
       "      <td>1</td>\n",
       "      <td>2</td>\n",
       "      <td>1</td>\n",
       "      <td>70</td>\n",
       "    </tr>\n",
       "    <tr>\n",
       "      <th>1</th>\n",
       "      <td>201900000002</td>\n",
       "      <td>1</td>\n",
       "      <td>1</td>\n",
       "      <td>0.0</td>\n",
       "      <td>NaN</td>\n",
       "      <td>1</td>\n",
       "      <td>2</td>\n",
       "      <td>0</td>\n",
       "      <td>4</td>\n",
       "      <td>3</td>\n",
       "      <td>845</td>\n",
       "      <td>2</td>\n",
       "      <td>NaN</td>\n",
       "      <td>NaN</td>\n",
       "      <td>1</td>\n",
       "      <td>0</td>\n",
       "      <td>1</td>\n",
       "      <td>70</td>\n",
       "    </tr>\n",
       "    <tr>\n",
       "      <th>2</th>\n",
       "      <td>201900000003</td>\n",
       "      <td>1</td>\n",
       "      <td>86</td>\n",
       "      <td>0.0</td>\n",
       "      <td>NaN</td>\n",
       "      <td>3</td>\n",
       "      <td>8</td>\n",
       "      <td>0</td>\n",
       "      <td>1</td>\n",
       "      <td>10</td>\n",
       "      <td>500</td>\n",
       "      <td>3</td>\n",
       "      <td>NaN</td>\n",
       "      <td>NaN</td>\n",
       "      <td>1</td>\n",
       "      <td>0</td>\n",
       "      <td>1</td>\n",
       "      <td>90</td>\n",
       "    </tr>\n",
       "    <tr>\n",
       "      <th>3</th>\n",
       "      <td>201900000004</td>\n",
       "      <td>1</td>\n",
       "      <td>4</td>\n",
       "      <td>0.0</td>\n",
       "      <td>NaN</td>\n",
       "      <td>3</td>\n",
       "      <td>5</td>\n",
       "      <td>0</td>\n",
       "      <td>1</td>\n",
       "      <td>2</td>\n",
       "      <td>299</td>\n",
       "      <td>1</td>\n",
       "      <td>NaN</td>\n",
       "      <td>NaN</td>\n",
       "      <td>1</td>\n",
       "      <td>0</td>\n",
       "      <td>1</td>\n",
       "      <td>90</td>\n",
       "    </tr>\n",
       "    <tr>\n",
       "      <th>4</th>\n",
       "      <td>201900000005</td>\n",
       "      <td>1</td>\n",
       "      <td>86</td>\n",
       "      <td>0.0</td>\n",
       "      <td>INT</td>\n",
       "      <td>1</td>\n",
       "      <td>3</td>\n",
       "      <td>0</td>\n",
       "      <td>1</td>\n",
       "      <td>41</td>\n",
       "      <td>0</td>\n",
       "      <td>3</td>\n",
       "      <td>NaN</td>\n",
       "      <td>NaN</td>\n",
       "      <td>1</td>\n",
       "      <td>2</td>\n",
       "      <td>1</td>\n",
       "      <td>90</td>\n",
       "    </tr>\n",
       "    <tr>\n",
       "      <th>...</th>\n",
       "      <td>...</td>\n",
       "      <td>...</td>\n",
       "      <td>...</td>\n",
       "      <td>...</td>\n",
       "      <td>...</td>\n",
       "      <td>...</td>\n",
       "      <td>...</td>\n",
       "      <td>...</td>\n",
       "      <td>...</td>\n",
       "      <td>...</td>\n",
       "      <td>...</td>\n",
       "      <td>...</td>\n",
       "      <td>...</td>\n",
       "      <td>...</td>\n",
       "      <td>...</td>\n",
       "      <td>...</td>\n",
       "      <td>...</td>\n",
       "      <td>...</td>\n",
       "    </tr>\n",
       "    <tr>\n",
       "      <th>58835</th>\n",
       "      <td>201900058836</td>\n",
       "      <td>1</td>\n",
       "      <td>43</td>\n",
       "      <td>0.0</td>\n",
       "      <td>NaN</td>\n",
       "      <td>1</td>\n",
       "      <td>3</td>\n",
       "      <td>0</td>\n",
       "      <td>1</td>\n",
       "      <td>15</td>\n",
       "      <td>500</td>\n",
       "      <td>1</td>\n",
       "      <td>NaN</td>\n",
       "      <td>NaN</td>\n",
       "      <td>2</td>\n",
       "      <td>3</td>\n",
       "      <td>1</td>\n",
       "      <td>130</td>\n",
       "    </tr>\n",
       "    <tr>\n",
       "      <th>58836</th>\n",
       "      <td>201900058837</td>\n",
       "      <td>1</td>\n",
       "      <td>35</td>\n",
       "      <td>0.0</td>\n",
       "      <td>NaN</td>\n",
       "      <td>1</td>\n",
       "      <td>2</td>\n",
       "      <td>0</td>\n",
       "      <td>1</td>\n",
       "      <td>303</td>\n",
       "      <td>282</td>\n",
       "      <td>1</td>\n",
       "      <td>NaN</td>\n",
       "      <td>NaN</td>\n",
       "      <td>2</td>\n",
       "      <td>0</td>\n",
       "      <td>1</td>\n",
       "      <td>90</td>\n",
       "    </tr>\n",
       "    <tr>\n",
       "      <th>58837</th>\n",
       "      <td>201900058838</td>\n",
       "      <td>1</td>\n",
       "      <td>6</td>\n",
       "      <td>0.0</td>\n",
       "      <td>A</td>\n",
       "      <td>3</td>\n",
       "      <td>3</td>\n",
       "      <td>0</td>\n",
       "      <td>1</td>\n",
       "      <td>5</td>\n",
       "      <td>199</td>\n",
       "      <td>1</td>\n",
       "      <td>NaN</td>\n",
       "      <td>NaN</td>\n",
       "      <td>1</td>\n",
       "      <td>0</td>\n",
       "      <td>1</td>\n",
       "      <td>90</td>\n",
       "    </tr>\n",
       "    <tr>\n",
       "      <th>58838</th>\n",
       "      <td>201900058839</td>\n",
       "      <td>1</td>\n",
       "      <td>86</td>\n",
       "      <td>0.0</td>\n",
       "      <td>NaN</td>\n",
       "      <td>1</td>\n",
       "      <td>1</td>\n",
       "      <td>0</td>\n",
       "      <td>1</td>\n",
       "      <td>59</td>\n",
       "      <td>99</td>\n",
       "      <td>3</td>\n",
       "      <td>NaN</td>\n",
       "      <td>NaN</td>\n",
       "      <td>1</td>\n",
       "      <td>0</td>\n",
       "      <td>1</td>\n",
       "      <td>50</td>\n",
       "    </tr>\n",
       "    <tr>\n",
       "      <th>58839</th>\n",
       "      <td>201900058840</td>\n",
       "      <td>1</td>\n",
       "      <td>13</td>\n",
       "      <td>0.0</td>\n",
       "      <td>NaN</td>\n",
       "      <td>1</td>\n",
       "      <td>3</td>\n",
       "      <td>0</td>\n",
       "      <td>1</td>\n",
       "      <td>6</td>\n",
       "      <td>699</td>\n",
       "      <td>1</td>\n",
       "      <td>NaN</td>\n",
       "      <td>NaN</td>\n",
       "      <td>1</td>\n",
       "      <td>0</td>\n",
       "      <td>2</td>\n",
       "      <td>110</td>\n",
       "    </tr>\n",
       "  </tbody>\n",
       "</table>\n",
       "<p>58840 rows × 18 columns</p>\n",
       "</div>"
      ],
      "text/plain": [
       "            Num_Acc  catr voie   v1   v2  circ  nbv  vosp  prof   pr  pr1  \\\n",
       "0      201900000001     1    3  0.0  NaN     3   10     0     1    6  900   \n",
       "1      201900000002     1    1  0.0  NaN     1    2     0     4    3  845   \n",
       "2      201900000003     1   86  0.0  NaN     3    8     0     1   10  500   \n",
       "3      201900000004     1    4  0.0  NaN     3    5     0     1    2  299   \n",
       "4      201900000005     1  86   0.0  INT     1    3     0     1   41    0   \n",
       "...             ...   ...  ...  ...  ...   ...  ...   ...   ...  ...  ...   \n",
       "58835  201900058836     1   43  0.0  NaN     1    3     0     1   15  500   \n",
       "58836  201900058837     1   35  0.0  NaN     1    2     0     1  303  282   \n",
       "58837  201900058838     1    6  0.0    A     3    3     0     1    5  199   \n",
       "58838  201900058839     1   86  0.0  NaN     1    1     0     1   59   99   \n",
       "58839  201900058840     1   13  0.0  NaN     1    3     0     1    6  699   \n",
       "\n",
       "       plan  lartpc  larrout  surf  infra  situ  vma  \n",
       "0         2     NaN      NaN     1      2     1   70  \n",
       "1         2     NaN      NaN     1      0     1   70  \n",
       "2         3     NaN      NaN     1      0     1   90  \n",
       "3         1     NaN      NaN     1      0     1   90  \n",
       "4         3     NaN      NaN     1      2     1   90  \n",
       "...     ...     ...      ...   ...    ...   ...  ...  \n",
       "58835     1     NaN      NaN     2      3     1  130  \n",
       "58836     1     NaN      NaN     2      0     1   90  \n",
       "58837     1     NaN      NaN     1      0     1   90  \n",
       "58838     3     NaN      NaN     1      0     1   50  \n",
       "58839     1     NaN      NaN     1      0     2  110  \n",
       "\n",
       "[58840 rows x 18 columns]"
      ]
     },
     "execution_count": 39,
     "metadata": {},
     "output_type": "execute_result"
    }
   ],
   "source": [
    "import pandas as pd\n",
    "import numpy as np\n",
    "import matplotlib.pyplot as plt\n",
    "import seaborn as sns\n",
    "\n",
    "\n",
    "data = pd.read_csv(\"lieux-2019.csv\", delimiter=\";\")\n",
    "data"
   ]
  },
  {
   "cell_type": "code",
   "execution_count": 40,
   "id": "9e8934cb",
   "metadata": {},
   "outputs": [
    {
     "data": {
      "text/plain": [
       "Num_Acc        0\n",
       "catr           0\n",
       "voie        2935\n",
       "v1         10746\n",
       "v2         54673\n",
       "circ           0\n",
       "nbv            0\n",
       "vosp           0\n",
       "prof           0\n",
       "pr             0\n",
       "pr1            0\n",
       "plan           0\n",
       "lartpc     58629\n",
       "larrout    58468\n",
       "surf           0\n",
       "infra          0\n",
       "situ           0\n",
       "vma            0\n",
       "dtype: int64"
      ]
     },
     "execution_count": 40,
     "metadata": {},
     "output_type": "execute_result"
    }
   ],
   "source": [
    "data.isnull().sum()\n"
   ]
  },
  {
   "cell_type": "code",
   "execution_count": 41,
   "id": "1a220a08",
   "metadata": {},
   "outputs": [
    {
     "data": {
      "text/plain": [
       "Num_Acc        0\n",
       "catr           0\n",
       "voie        2935\n",
       "v1         10746\n",
       "v2         54673\n",
       "circ           0\n",
       "nbv            0\n",
       "vosp           0\n",
       "prof           0\n",
       "pr             0\n",
       "pr1            0\n",
       "plan           0\n",
       "lartpc     58629\n",
       "larrout    58468\n",
       "surf           0\n",
       "infra          0\n",
       "situ           0\n",
       "vma            0\n",
       "dtype: int64"
      ]
     },
     "execution_count": 41,
     "metadata": {},
     "output_type": "execute_result"
    }
   ],
   "source": [
    "data.isna().sum()"
   ]
  },
  {
   "cell_type": "code",
   "execution_count": 42,
   "id": "824fd7fc",
   "metadata": {},
   "outputs": [
    {
     "data": {
      "text/plain": [
       "4    25771\n",
       "3    20963\n",
       "1     5823\n",
       "2     3866\n",
       "7     1298\n",
       "9      590\n",
       "6      442\n",
       "5       87\n",
       "Name: catr, dtype: int64"
      ]
     },
     "execution_count": 42,
     "metadata": {},
     "output_type": "execute_result"
    }
   ],
   "source": [
    "data[\"catr\"].value_counts()"
   ]
  },
  {
   "cell_type": "code",
   "execution_count": 43,
   "id": "db68230d",
   "metadata": {},
   "outputs": [
    {
     "data": {
      "text/plain": [
       "4.0    25771\n",
       "3.0    20963\n",
       "1.0     5823\n",
       "2.0     3866\n",
       "7.0     1298\n",
       "6.0      442\n",
       "5.0       87\n",
       "Name: catr, dtype: int64"
      ]
     },
     "execution_count": 43,
     "metadata": {},
     "output_type": "execute_result"
    }
   ],
   "source": [
    "data[\"catr\"].replace(9, np.nan, inplace=True)\n",
    "data[\"catr\"].value_counts()\n"
   ]
  },
  {
   "cell_type": "code",
   "execution_count": 44,
   "id": "f1fc820d",
   "metadata": {},
   "outputs": [
    {
     "data": {
      "text/plain": [
       "Num_Acc        0\n",
       "catr         590\n",
       "voie        2935\n",
       "v1         10746\n",
       "v2         54673\n",
       "circ           0\n",
       "nbv            0\n",
       "vosp           0\n",
       "prof           0\n",
       "pr             0\n",
       "pr1            0\n",
       "plan           0\n",
       "lartpc     58629\n",
       "larrout    58468\n",
       "surf           0\n",
       "infra          0\n",
       "situ           0\n",
       "vma            0\n",
       "dtype: int64"
      ]
     },
     "execution_count": 44,
     "metadata": {},
     "output_type": "execute_result"
    }
   ],
   "source": [
    "data.isna().sum()"
   ]
  },
  {
   "cell_type": "code",
   "execution_count": 45,
   "id": "10704b04",
   "metadata": {},
   "outputs": [
    {
     "data": {
      "text/plain": [
       " 2    36367\n",
       " 1    10381\n",
       " 3     8577\n",
       "-1     3154\n",
       " 4      361\n",
       "Name: circ, dtype: int64"
      ]
     },
     "execution_count": 45,
     "metadata": {},
     "output_type": "execute_result"
    }
   ],
   "source": [
    "data[\"circ\"].value_counts()"
   ]
  },
  {
   "cell_type": "code",
   "execution_count": 46,
   "id": "e62d469d",
   "metadata": {},
   "outputs": [
    {
     "data": {
      "text/plain": [
       "2.0    36367\n",
       "1.0    10381\n",
       "3.0     8577\n",
       "4.0      361\n",
       "Name: circ, dtype: int64"
      ]
     },
     "execution_count": 46,
     "metadata": {},
     "output_type": "execute_result"
    }
   ],
   "source": [
    "data[\"circ\"].replace(-1, np.nan, inplace=True)\n",
    "data[\"circ\"].value_counts()"
   ]
  },
  {
   "cell_type": "code",
   "execution_count": 47,
   "id": "8af0a931",
   "metadata": {},
   "outputs": [
    {
     "data": {
      "text/plain": [
       " 0    53719\n",
       " 1     1915\n",
       " 3     1685\n",
       " 2      852\n",
       "-1      669\n",
       "Name: vosp, dtype: int64"
      ]
     },
     "execution_count": 47,
     "metadata": {},
     "output_type": "execute_result"
    }
   ],
   "source": [
    "data[\"vosp\"].value_counts()"
   ]
  },
  {
   "cell_type": "code",
   "execution_count": 48,
   "id": "4b3ba8a6",
   "metadata": {},
   "outputs": [
    {
     "data": {
      "text/plain": [
       "0.0    53719\n",
       "1.0     1915\n",
       "3.0     1685\n",
       "2.0      852\n",
       "Name: vosp, dtype: int64"
      ]
     },
     "execution_count": 48,
     "metadata": {},
     "output_type": "execute_result"
    }
   ],
   "source": [
    "data[\"vosp\"].replace(-1, np.nan, inplace=True)\n",
    "data[\"vosp\"].value_counts()"
   ]
  },
  {
   "cell_type": "code",
   "execution_count": 49,
   "id": "766bad4d",
   "metadata": {},
   "outputs": [
    {
     "data": {
      "text/plain": [
       " 1    47299\n",
       " 2     9611\n",
       " 3     1000\n",
       " 4      916\n",
       "-1       14\n",
       "Name: prof, dtype: int64"
      ]
     },
     "execution_count": 49,
     "metadata": {},
     "output_type": "execute_result"
    }
   ],
   "source": [
    "data[\"prof\"].value_counts()"
   ]
  },
  {
   "cell_type": "code",
   "execution_count": 50,
   "id": "3d4b4c85",
   "metadata": {},
   "outputs": [
    {
     "data": {
      "text/plain": [
       "1.0    47299\n",
       "2.0     9611\n",
       "3.0     1000\n",
       "4.0      916\n",
       "Name: prof, dtype: int64"
      ]
     },
     "execution_count": 50,
     "metadata": {},
     "output_type": "execute_result"
    }
   ],
   "source": [
    "data[\"prof\"].replace(-1, np.nan, inplace=True)\n",
    "data[\"prof\"].value_counts()"
   ]
  },
  {
   "cell_type": "code",
   "execution_count": 51,
   "id": "e627b442",
   "metadata": {},
   "outputs": [
    {
     "data": {
      "text/plain": [
       "0      27114\n",
       "(1)     7297\n",
       "1       3508\n",
       "2       1129\n",
       "3        935\n",
       "       ...  \n",
       "373        1\n",
       "425        1\n",
       "470        1\n",
       "424        1\n",
       "574        1\n",
       "Name: pr, Length: 489, dtype: int64"
      ]
     },
     "execution_count": 51,
     "metadata": {},
     "output_type": "execute_result"
    }
   ],
   "source": [
    "data[\"pr\"].value_counts()"
   ]
  },
  {
   "cell_type": "code",
   "execution_count": 64,
   "id": "dc2d2679",
   "metadata": {},
   "outputs": [
    {
     "data": {
      "text/plain": [
       "7.00      38\n",
       "14.00     16\n",
       "6.00      12\n",
       "70.00     12\n",
       "65.00     11\n",
       "          ..\n",
       "3.40       1\n",
       "6.60       1\n",
       "120.00     1\n",
       "4.45       1\n",
       "730.00     1\n",
       "Name: larrout, Length: 110, dtype: int64"
      ]
     },
     "execution_count": 64,
     "metadata": {},
     "output_type": "execute_result"
    }
   ],
   "source": [
    "data[\"larrout\"].value_counts()"
   ]
  },
  {
   "cell_type": "code",
   "execution_count": 65,
   "id": "a9b20152",
   "metadata": {},
   "outputs": [
    {
     "data": {
      "text/plain": [
       " 50     33306\n",
       " 80      9027\n",
       " 70      4097\n",
       " 30      4013\n",
       " 90      3436\n",
       " 110     2151\n",
       " 130     1166\n",
       "-1        881\n",
       " 60       237\n",
       " 20       156\n",
       " 10       118\n",
       " 40        54\n",
       " 15        38\n",
       " 5         32\n",
       " 45        27\n",
       " 2         20\n",
       " 1         16\n",
       " 500       15\n",
       " 25        11\n",
       " 100        9\n",
       " 6          8\n",
       " 35         6\n",
       " 3          3\n",
       " 65         2\n",
       " 4          2\n",
       " 700        1\n",
       " 600        1\n",
       " 0          1\n",
       " 120        1\n",
       " 560        1\n",
       " 800        1\n",
       " 42         1\n",
       " 7          1\n",
       " 12         1\n",
       "Name: vma, dtype: int64"
      ]
     },
     "execution_count": 65,
     "metadata": {},
     "output_type": "execute_result"
    }
   ],
   "source": [
    "data[\"vma\"].value_counts()"
   ]
  },
  {
   "cell_type": "code",
   "execution_count": 66,
   "id": "93a2579b",
   "metadata": {},
   "outputs": [
    {
     "data": {
      "text/plain": [
       "50.0     33306\n",
       "80.0      9027\n",
       "70.0      4097\n",
       "30.0      4013\n",
       "90.0      3436\n",
       "110.0     2151\n",
       "130.0     1166\n",
       "60.0       237\n",
       "20.0       156\n",
       "10.0       118\n",
       "40.0        54\n",
       "15.0        38\n",
       "5.0         32\n",
       "45.0        27\n",
       "2.0         20\n",
       "1.0         16\n",
       "500.0       15\n",
       "25.0        11\n",
       "100.0        9\n",
       "6.0          8\n",
       "35.0         6\n",
       "3.0          3\n",
       "65.0         2\n",
       "4.0          2\n",
       "700.0        1\n",
       "600.0        1\n",
       "120.0        1\n",
       "560.0        1\n",
       "800.0        1\n",
       "42.0         1\n",
       "12.0         1\n",
       "7.0          1\n",
       "0.0          1\n",
       "Name: vma, dtype: int64"
      ]
     },
     "execution_count": 66,
     "metadata": {},
     "output_type": "execute_result"
    }
   ],
   "source": [
    "data[\"vma\"].replace(-1, np.nan, inplace=True)\n",
    "data[\"vma\"].value_counts()"
   ]
  },
  {
   "cell_type": "code",
   "execution_count": 53,
   "id": "b15e8262",
   "metadata": {},
   "outputs": [
    {
     "data": {
      "text/plain": [
       "1.0    47299\n",
       "2.0     9611\n",
       "3.0     1000\n",
       "4.0      916\n",
       "Name: prof, dtype: int64"
      ]
     },
     "execution_count": 53,
     "metadata": {},
     "output_type": "execute_result"
    }
   ],
   "source": [
    "data[\"prof\"].replace(-1, np.nan, inplace=True)\n",
    "data[\"prof\"].value_counts()"
   ]
  },
  {
   "cell_type": "code",
   "execution_count": 54,
   "id": "f7ab2e37",
   "metadata": {},
   "outputs": [
    {
     "data": {
      "text/plain": [
       " 1    46951\n",
       " 2    10958\n",
       " 9      326\n",
       " 7      197\n",
       " 3      115\n",
       " 8      113\n",
       " 5      104\n",
       " 6       37\n",
       "-1       21\n",
       " 4       18\n",
       "Name: surf, dtype: int64"
      ]
     },
     "execution_count": 54,
     "metadata": {},
     "output_type": "execute_result"
    }
   ],
   "source": [
    "data[\"surf\"].value_counts()"
   ]
  },
  {
   "cell_type": "code",
   "execution_count": 55,
   "id": "9b0dd9a9",
   "metadata": {},
   "outputs": [
    {
     "data": {
      "text/plain": [
       "1.0    46951\n",
       "2.0    10958\n",
       "7.0      197\n",
       "3.0      115\n",
       "8.0      113\n",
       "5.0      104\n",
       "6.0       37\n",
       "4.0       18\n",
       "Name: surf, dtype: int64"
      ]
     },
     "execution_count": 55,
     "metadata": {},
     "output_type": "execute_result"
    }
   ],
   "source": [
    "data[\"surf\"].replace([-1,9], np.nan, inplace=True)\n",
    "data[\"surf\"].value_counts()"
   ]
  },
  {
   "cell_type": "code",
   "execution_count": 56,
   "id": "738af8bc",
   "metadata": {},
   "outputs": [
    {
     "data": {
      "text/plain": [
       " 0    49041\n",
       " 5     3309\n",
       " 9     2324\n",
       " 2     1152\n",
       " 3      872\n",
       " 1      734\n",
       " 6      572\n",
       " 8      508\n",
       " 4      243\n",
       "-1       45\n",
       " 7       40\n",
       "Name: infra, dtype: int64"
      ]
     },
     "execution_count": 56,
     "metadata": {},
     "output_type": "execute_result"
    }
   ],
   "source": [
    "data[\"infra\"].value_counts()"
   ]
  },
  {
   "cell_type": "code",
   "execution_count": 57,
   "id": "c0398fd9",
   "metadata": {},
   "outputs": [
    {
     "data": {
      "text/plain": [
       "0.0    49041\n",
       "5.0     3309\n",
       "2.0     1152\n",
       "3.0      872\n",
       "1.0      734\n",
       "6.0      572\n",
       "8.0      508\n",
       "4.0      243\n",
       "7.0       40\n",
       "Name: infra, dtype: int64"
      ]
     },
     "execution_count": 57,
     "metadata": {},
     "output_type": "execute_result"
    }
   ],
   "source": [
    "data[\"infra\"].replace([-1,9], np.nan, inplace=True)\n",
    "data[\"infra\"].value_counts()"
   ]
  },
  {
   "cell_type": "code",
   "execution_count": 58,
   "id": "f8198296",
   "metadata": {},
   "outputs": [
    {
     "data": {
      "text/plain": [
       " 1    50674\n",
       " 3     4286\n",
       " 8     1154\n",
       " 2      955\n",
       " 4      690\n",
       " 5      522\n",
       " 6      443\n",
       "-1      116\n",
       "Name: situ, dtype: int64"
      ]
     },
     "execution_count": 58,
     "metadata": {},
     "output_type": "execute_result"
    }
   ],
   "source": [
    "data[\"situ\"].value_counts()"
   ]
  },
  {
   "cell_type": "code",
   "execution_count": 59,
   "id": "d679b6c5",
   "metadata": {},
   "outputs": [
    {
     "data": {
      "text/plain": [
       "1.0    50674\n",
       "3.0     4286\n",
       "2.0      955\n",
       "4.0      690\n",
       "5.0      522\n",
       "6.0      443\n",
       "Name: situ, dtype: int64"
      ]
     },
     "execution_count": 59,
     "metadata": {},
     "output_type": "execute_result"
    }
   ],
   "source": [
    "data[\"situ\"].replace([-1,8], np.nan, inplace=True)\n",
    "data[\"situ\"].value_counts()"
   ]
  },
  {
   "cell_type": "code",
   "execution_count": 61,
   "id": "3925e5bd",
   "metadata": {},
   "outputs": [
    {
     "data": {
      "text/plain": [
       "D      1859\n",
       "A       918\n",
       "B       234\n",
       "N       225\n",
       "E       217\n",
       "INT     116\n",
       "EXT     110\n",
       "C       109\n",
       "R        62\n",
       " -       58\n",
       "Y        41\n",
       "M        31\n",
       "T        26\n",
       "W        26\n",
       "S        22\n",
       "F        20\n",
       "G        13\n",
       "P        12\n",
       "V        10\n",
       "b         9\n",
       "I         8\n",
       "Z         7\n",
       "H         6\n",
       "O         6\n",
       "X         5\n",
       "L         4\n",
       "K         3\n",
       "U         2\n",
       "IV        2\n",
       "CD        1\n",
       "II        1\n",
       "15        1\n",
       "A1        1\n",
       " D        1\n",
       "1A        1\n",
       "Name: v2, dtype: int64"
      ]
     },
     "execution_count": 61,
     "metadata": {},
     "output_type": "execute_result"
    }
   ],
   "source": [
    "data[\"v2\"].value_counts()"
   ]
  },
  {
   "cell_type": "code",
   "execution_count": null,
   "id": "b144e50d",
   "metadata": {},
   "outputs": [],
   "source": []
  }
 ],
 "metadata": {
  "kernelspec": {
   "display_name": "Python 3",
   "language": "python",
   "name": "python3"
  },
  "language_info": {
   "codemirror_mode": {
    "name": "ipython",
    "version": 3
   },
   "file_extension": ".py",
   "mimetype": "text/x-python",
   "name": "python",
   "nbconvert_exporter": "python",
   "pygments_lexer": "ipython3",
   "version": "3.8.8"
  }
 },
 "nbformat": 4,
 "nbformat_minor": 5
}
