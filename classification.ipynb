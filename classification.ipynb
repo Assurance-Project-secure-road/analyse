{
 "cells": [
  {
   "cell_type": "code",
   "execution_count": 1,
   "source": [
    "import pandas as pd\r\n",
    "import numpy as np\r\n",
    "import matplotlib.pyplot as plt\r\n",
    "import seaborn as sn"
   ],
   "outputs": [],
   "metadata": {}
  },
  {
   "cell_type": "code",
   "execution_count": 2,
   "source": [
    "data = pd.read_csv(\"Data_ML_assurance.csv\")\r\n",
    "data"
   ],
   "outputs": [
    {
     "output_type": "execute_result",
     "data": {
      "text/plain": [
       "        Gravblessure_Usager  Collision_Acc  Sexe_Usager  \\\n",
       "0                         1            4.0            1   \n",
       "1                         1            4.0            1   \n",
       "2                         1            4.0            1   \n",
       "3                         1            4.0            1   \n",
       "4                         1            4.0            1   \n",
       "...                     ...            ...          ...   \n",
       "253483                    1            4.0            1   \n",
       "253484                    1            4.0            1   \n",
       "253485                    4            4.0            1   \n",
       "253486                    4            4.0            1   \n",
       "253487                    4            4.0            1   \n",
       "\n",
       "        Anne_Naissance_Usager  Equipement_Secu_Usager Commune_Acc  \\\n",
       "0                        1993                     1.0       94069   \n",
       "1                        1993                     1.0       94069   \n",
       "2                        1993                     1.0       94069   \n",
       "3                        1968                     1.0       94069   \n",
       "4                        1968                     1.0       94069   \n",
       "...                       ...                     ...         ...   \n",
       "253483                   1968                     1.0       13071   \n",
       "253484                   1968                     1.0       13071   \n",
       "253485                   1964                     1.0       13071   \n",
       "253486                   1964                     1.0       13071   \n",
       "253487                   1964                     1.0       13071   \n",
       "\n",
       "        Equipement_Secu_Usager.1  Categorie_Vehicule  \\\n",
       "0                            1.0                   7   \n",
       "1                            1.0                   7   \n",
       "2                            1.0                   7   \n",
       "3                            1.0                   7   \n",
       "4                            1.0                   7   \n",
       "...                          ...                 ...   \n",
       "253483                       1.0                  10   \n",
       "253484                       1.0                   7   \n",
       "253485                       1.0                  10   \n",
       "253486                       1.0                  10   \n",
       "253487                       1.0                   7   \n",
       "\n",
       "        Type_motorisation_Vehicule  Nb_occupant_Vehicule  ...  \\\n",
       "0                              1.0                   NaN  ...   \n",
       "1                              1.0                   NaN  ...   \n",
       "2                              1.0                   NaN  ...   \n",
       "3                              1.0                   NaN  ...   \n",
       "4                              1.0                   NaN  ...   \n",
       "...                            ...                   ...  ...   \n",
       "253483                         1.0                   NaN  ...   \n",
       "253484                         1.0                   NaN  ...   \n",
       "253485                         1.0                   NaN  ...   \n",
       "253486                         1.0                   NaN  ...   \n",
       "253487                         1.0                   NaN  ...   \n",
       "\n",
       "        Circulation_Route  Nb_voie_Route  Vitesse_max_Route  Surface_Route  \\\n",
       "0                     3.0              5               90.0            1.0   \n",
       "1                     3.0              5               90.0            1.0   \n",
       "2                     3.0              5               90.0            1.0   \n",
       "3                     3.0              5               90.0            1.0   \n",
       "4                     3.0              5               90.0            1.0   \n",
       "...                   ...            ...                ...            ...   \n",
       "253483                3.0              2              110.0            1.0   \n",
       "253484                3.0              2              110.0            1.0   \n",
       "253485                3.0              2              110.0            1.0   \n",
       "253486                3.0              2              110.0            1.0   \n",
       "253487                3.0              2              110.0            1.0   \n",
       "\n",
       "        Categorie_Vehicule.1             Date_Acc Lumiere_Acc  Meteo_Acc  \\\n",
       "0                          7  2019-11-30 20:20:00           5        1.0   \n",
       "1                          7  2019-11-30 20:20:00           5        1.0   \n",
       "2                          7  2019-11-30 20:20:00           5        1.0   \n",
       "3                          7  2019-11-30 20:20:00           5        1.0   \n",
       "4                          7  2019-11-30 20:20:00           5        1.0   \n",
       "...                      ...                  ...         ...        ...   \n",
       "253483                    10  2019-11-29 12:10:00           1        1.0   \n",
       "253484                     7  2019-11-29 12:10:00           1        1.0   \n",
       "253485                    10  2019-11-29 12:10:00           1        1.0   \n",
       "253486                    10  2019-11-29 12:10:00           1        1.0   \n",
       "253487                     7  2019-11-29 12:10:00           1        1.0   \n",
       "\n",
       "        Motif_Deplacer_Usager  Departement_Acc  \n",
       "0                         NaN               94  \n",
       "1                         NaN               94  \n",
       "2                         NaN               94  \n",
       "3                         5.0               94  \n",
       "4                         5.0               94  \n",
       "...                       ...              ...  \n",
       "253483                    4.0               13  \n",
       "253484                    4.0               13  \n",
       "253485                    5.0               13  \n",
       "253486                    5.0               13  \n",
       "253487                    5.0               13  \n",
       "\n",
       "[253488 rows x 21 columns]"
      ],
      "text/html": [
       "<div>\n",
       "<style scoped>\n",
       "    .dataframe tbody tr th:only-of-type {\n",
       "        vertical-align: middle;\n",
       "    }\n",
       "\n",
       "    .dataframe tbody tr th {\n",
       "        vertical-align: top;\n",
       "    }\n",
       "\n",
       "    .dataframe thead th {\n",
       "        text-align: right;\n",
       "    }\n",
       "</style>\n",
       "<table border=\"1\" class=\"dataframe\">\n",
       "  <thead>\n",
       "    <tr style=\"text-align: right;\">\n",
       "      <th></th>\n",
       "      <th>Gravblessure_Usager</th>\n",
       "      <th>Collision_Acc</th>\n",
       "      <th>Sexe_Usager</th>\n",
       "      <th>Anne_Naissance_Usager</th>\n",
       "      <th>Equipement_Secu_Usager</th>\n",
       "      <th>Commune_Acc</th>\n",
       "      <th>Equipement_Secu_Usager.1</th>\n",
       "      <th>Categorie_Vehicule</th>\n",
       "      <th>Type_motorisation_Vehicule</th>\n",
       "      <th>Nb_occupant_Vehicule</th>\n",
       "      <th>...</th>\n",
       "      <th>Circulation_Route</th>\n",
       "      <th>Nb_voie_Route</th>\n",
       "      <th>Vitesse_max_Route</th>\n",
       "      <th>Surface_Route</th>\n",
       "      <th>Categorie_Vehicule.1</th>\n",
       "      <th>Date_Acc</th>\n",
       "      <th>Lumiere_Acc</th>\n",
       "      <th>Meteo_Acc</th>\n",
       "      <th>Motif_Deplacer_Usager</th>\n",
       "      <th>Departement_Acc</th>\n",
       "    </tr>\n",
       "  </thead>\n",
       "  <tbody>\n",
       "    <tr>\n",
       "      <th>0</th>\n",
       "      <td>1</td>\n",
       "      <td>4.0</td>\n",
       "      <td>1</td>\n",
       "      <td>1993</td>\n",
       "      <td>1.0</td>\n",
       "      <td>94069</td>\n",
       "      <td>1.0</td>\n",
       "      <td>7</td>\n",
       "      <td>1.0</td>\n",
       "      <td>NaN</td>\n",
       "      <td>...</td>\n",
       "      <td>3.0</td>\n",
       "      <td>5</td>\n",
       "      <td>90.0</td>\n",
       "      <td>1.0</td>\n",
       "      <td>7</td>\n",
       "      <td>2019-11-30 20:20:00</td>\n",
       "      <td>5</td>\n",
       "      <td>1.0</td>\n",
       "      <td>NaN</td>\n",
       "      <td>94</td>\n",
       "    </tr>\n",
       "    <tr>\n",
       "      <th>1</th>\n",
       "      <td>1</td>\n",
       "      <td>4.0</td>\n",
       "      <td>1</td>\n",
       "      <td>1993</td>\n",
       "      <td>1.0</td>\n",
       "      <td>94069</td>\n",
       "      <td>1.0</td>\n",
       "      <td>7</td>\n",
       "      <td>1.0</td>\n",
       "      <td>NaN</td>\n",
       "      <td>...</td>\n",
       "      <td>3.0</td>\n",
       "      <td>5</td>\n",
       "      <td>90.0</td>\n",
       "      <td>1.0</td>\n",
       "      <td>7</td>\n",
       "      <td>2019-11-30 20:20:00</td>\n",
       "      <td>5</td>\n",
       "      <td>1.0</td>\n",
       "      <td>NaN</td>\n",
       "      <td>94</td>\n",
       "    </tr>\n",
       "    <tr>\n",
       "      <th>2</th>\n",
       "      <td>1</td>\n",
       "      <td>4.0</td>\n",
       "      <td>1</td>\n",
       "      <td>1993</td>\n",
       "      <td>1.0</td>\n",
       "      <td>94069</td>\n",
       "      <td>1.0</td>\n",
       "      <td>7</td>\n",
       "      <td>1.0</td>\n",
       "      <td>NaN</td>\n",
       "      <td>...</td>\n",
       "      <td>3.0</td>\n",
       "      <td>5</td>\n",
       "      <td>90.0</td>\n",
       "      <td>1.0</td>\n",
       "      <td>7</td>\n",
       "      <td>2019-11-30 20:20:00</td>\n",
       "      <td>5</td>\n",
       "      <td>1.0</td>\n",
       "      <td>NaN</td>\n",
       "      <td>94</td>\n",
       "    </tr>\n",
       "    <tr>\n",
       "      <th>3</th>\n",
       "      <td>1</td>\n",
       "      <td>4.0</td>\n",
       "      <td>1</td>\n",
       "      <td>1968</td>\n",
       "      <td>1.0</td>\n",
       "      <td>94069</td>\n",
       "      <td>1.0</td>\n",
       "      <td>7</td>\n",
       "      <td>1.0</td>\n",
       "      <td>NaN</td>\n",
       "      <td>...</td>\n",
       "      <td>3.0</td>\n",
       "      <td>5</td>\n",
       "      <td>90.0</td>\n",
       "      <td>1.0</td>\n",
       "      <td>7</td>\n",
       "      <td>2019-11-30 20:20:00</td>\n",
       "      <td>5</td>\n",
       "      <td>1.0</td>\n",
       "      <td>5.0</td>\n",
       "      <td>94</td>\n",
       "    </tr>\n",
       "    <tr>\n",
       "      <th>4</th>\n",
       "      <td>1</td>\n",
       "      <td>4.0</td>\n",
       "      <td>1</td>\n",
       "      <td>1968</td>\n",
       "      <td>1.0</td>\n",
       "      <td>94069</td>\n",
       "      <td>1.0</td>\n",
       "      <td>7</td>\n",
       "      <td>1.0</td>\n",
       "      <td>NaN</td>\n",
       "      <td>...</td>\n",
       "      <td>3.0</td>\n",
       "      <td>5</td>\n",
       "      <td>90.0</td>\n",
       "      <td>1.0</td>\n",
       "      <td>7</td>\n",
       "      <td>2019-11-30 20:20:00</td>\n",
       "      <td>5</td>\n",
       "      <td>1.0</td>\n",
       "      <td>5.0</td>\n",
       "      <td>94</td>\n",
       "    </tr>\n",
       "    <tr>\n",
       "      <th>...</th>\n",
       "      <td>...</td>\n",
       "      <td>...</td>\n",
       "      <td>...</td>\n",
       "      <td>...</td>\n",
       "      <td>...</td>\n",
       "      <td>...</td>\n",
       "      <td>...</td>\n",
       "      <td>...</td>\n",
       "      <td>...</td>\n",
       "      <td>...</td>\n",
       "      <td>...</td>\n",
       "      <td>...</td>\n",
       "      <td>...</td>\n",
       "      <td>...</td>\n",
       "      <td>...</td>\n",
       "      <td>...</td>\n",
       "      <td>...</td>\n",
       "      <td>...</td>\n",
       "      <td>...</td>\n",
       "      <td>...</td>\n",
       "      <td>...</td>\n",
       "    </tr>\n",
       "    <tr>\n",
       "      <th>253483</th>\n",
       "      <td>1</td>\n",
       "      <td>4.0</td>\n",
       "      <td>1</td>\n",
       "      <td>1968</td>\n",
       "      <td>1.0</td>\n",
       "      <td>13071</td>\n",
       "      <td>1.0</td>\n",
       "      <td>10</td>\n",
       "      <td>1.0</td>\n",
       "      <td>NaN</td>\n",
       "      <td>...</td>\n",
       "      <td>3.0</td>\n",
       "      <td>2</td>\n",
       "      <td>110.0</td>\n",
       "      <td>1.0</td>\n",
       "      <td>10</td>\n",
       "      <td>2019-11-29 12:10:00</td>\n",
       "      <td>1</td>\n",
       "      <td>1.0</td>\n",
       "      <td>4.0</td>\n",
       "      <td>13</td>\n",
       "    </tr>\n",
       "    <tr>\n",
       "      <th>253484</th>\n",
       "      <td>1</td>\n",
       "      <td>4.0</td>\n",
       "      <td>1</td>\n",
       "      <td>1968</td>\n",
       "      <td>1.0</td>\n",
       "      <td>13071</td>\n",
       "      <td>1.0</td>\n",
       "      <td>7</td>\n",
       "      <td>1.0</td>\n",
       "      <td>NaN</td>\n",
       "      <td>...</td>\n",
       "      <td>3.0</td>\n",
       "      <td>2</td>\n",
       "      <td>110.0</td>\n",
       "      <td>1.0</td>\n",
       "      <td>7</td>\n",
       "      <td>2019-11-29 12:10:00</td>\n",
       "      <td>1</td>\n",
       "      <td>1.0</td>\n",
       "      <td>4.0</td>\n",
       "      <td>13</td>\n",
       "    </tr>\n",
       "    <tr>\n",
       "      <th>253485</th>\n",
       "      <td>4</td>\n",
       "      <td>4.0</td>\n",
       "      <td>1</td>\n",
       "      <td>1964</td>\n",
       "      <td>1.0</td>\n",
       "      <td>13071</td>\n",
       "      <td>1.0</td>\n",
       "      <td>10</td>\n",
       "      <td>1.0</td>\n",
       "      <td>NaN</td>\n",
       "      <td>...</td>\n",
       "      <td>3.0</td>\n",
       "      <td>2</td>\n",
       "      <td>110.0</td>\n",
       "      <td>1.0</td>\n",
       "      <td>10</td>\n",
       "      <td>2019-11-29 12:10:00</td>\n",
       "      <td>1</td>\n",
       "      <td>1.0</td>\n",
       "      <td>5.0</td>\n",
       "      <td>13</td>\n",
       "    </tr>\n",
       "    <tr>\n",
       "      <th>253486</th>\n",
       "      <td>4</td>\n",
       "      <td>4.0</td>\n",
       "      <td>1</td>\n",
       "      <td>1964</td>\n",
       "      <td>1.0</td>\n",
       "      <td>13071</td>\n",
       "      <td>1.0</td>\n",
       "      <td>10</td>\n",
       "      <td>1.0</td>\n",
       "      <td>NaN</td>\n",
       "      <td>...</td>\n",
       "      <td>3.0</td>\n",
       "      <td>2</td>\n",
       "      <td>110.0</td>\n",
       "      <td>1.0</td>\n",
       "      <td>10</td>\n",
       "      <td>2019-11-29 12:10:00</td>\n",
       "      <td>1</td>\n",
       "      <td>1.0</td>\n",
       "      <td>5.0</td>\n",
       "      <td>13</td>\n",
       "    </tr>\n",
       "    <tr>\n",
       "      <th>253487</th>\n",
       "      <td>4</td>\n",
       "      <td>4.0</td>\n",
       "      <td>1</td>\n",
       "      <td>1964</td>\n",
       "      <td>1.0</td>\n",
       "      <td>13071</td>\n",
       "      <td>1.0</td>\n",
       "      <td>7</td>\n",
       "      <td>1.0</td>\n",
       "      <td>NaN</td>\n",
       "      <td>...</td>\n",
       "      <td>3.0</td>\n",
       "      <td>2</td>\n",
       "      <td>110.0</td>\n",
       "      <td>1.0</td>\n",
       "      <td>7</td>\n",
       "      <td>2019-11-29 12:10:00</td>\n",
       "      <td>1</td>\n",
       "      <td>1.0</td>\n",
       "      <td>5.0</td>\n",
       "      <td>13</td>\n",
       "    </tr>\n",
       "  </tbody>\n",
       "</table>\n",
       "<p>253488 rows × 21 columns</p>\n",
       "</div>"
      ]
     },
     "metadata": {},
     "execution_count": 2
    }
   ],
   "metadata": {}
  },
  {
   "cell_type": "code",
   "execution_count": 4,
   "source": [
    "data[\"Collision_Acc\"].value_counts(normalize=True)"
   ],
   "outputs": [
    {
     "output_type": "execute_result",
     "data": {
      "text/plain": [
       "3.0    0.318361\n",
       "6.0    0.161524\n",
       "2.0    0.141838\n",
       "4.0    0.126516\n",
       "1.0    0.110113\n",
       "5.0    0.107473\n",
       "7.0    0.034175\n",
       "Name: Collision_Acc, dtype: float64"
      ]
     },
     "metadata": {},
     "execution_count": 4
    }
   ],
   "metadata": {}
  },
  {
   "cell_type": "code",
   "execution_count": 6,
   "source": [
    "data[\"Gravblessure_Usager\"].value_counts(normalize=True)"
   ],
   "outputs": [
    {
     "output_type": "execute_result",
     "data": {
      "text/plain": [
       "1    0.449970\n",
       "4    0.394745\n",
       "3    0.133880\n",
       "2    0.021405\n",
       "Name: Gravblessure_Usager, dtype: float64"
      ]
     },
     "metadata": {},
     "execution_count": 6
    }
   ],
   "metadata": {}
  },
  {
   "cell_type": "code",
   "execution_count": 3,
   "source": [
    "data.columns"
   ],
   "outputs": [
    {
     "output_type": "execute_result",
     "data": {
      "text/plain": [
       "Index(['Gravblessure_Usager', 'Collision_Acc', 'Sexe_Usager',\n",
       "       'Anne_Naissance_Usager', 'Equipement_Secu_Usager', 'Commune_Acc',\n",
       "       'Equipement_Secu_Usager.1', 'Categorie_Vehicule',\n",
       "       'Type_motorisation_Vehicule', 'Nb_occupant_Vehicule', 'Categorie_Route',\n",
       "       'Circulation_Route', 'Nb_voie_Route', 'Vitesse_max_Route',\n",
       "       'Surface_Route', 'Categorie_Vehicule.1', 'Date_Acc', 'Lumiere_Acc',\n",
       "       'Meteo_Acc', 'Motif_Deplacer_Usager', 'Departement_Acc'],\n",
       "      dtype='object')"
      ]
     },
     "metadata": {},
     "execution_count": 3
    }
   ],
   "metadata": {}
  },
  {
   "cell_type": "code",
   "execution_count": 7,
   "source": [
    "data[\"Date_Acc\"] = pd.to_datetime(data[\"Date_Acc\"])\r\n",
    "data[\"Month\"] = data[\"Date_Acc\"].dt.month"
   ],
   "outputs": [],
   "metadata": {}
  },
  {
   "cell_type": "code",
   "execution_count": 8,
   "source": [
    "data[\"Age\"] = 2019 - data[\"Anne_Naissance_Usager\"]"
   ],
   "outputs": [],
   "metadata": {}
  },
  {
   "cell_type": "code",
   "execution_count": 9,
   "source": [
    "data.loc[data[\"Vitesse_max_Route\"] > 130, \"Vitesse_max_Route\"] = data.loc[data[\"Vitesse_max_Route\"] > 130, \"Vitesse_max_Route\"].apply(lambda x: x/10)"
   ],
   "outputs": [],
   "metadata": {}
  },
  {
   "cell_type": "code",
   "execution_count": 10,
   "source": [
    "data.loc[data[\"Vitesse_max_Route\"] < 10, \"Vitesse_max_Route\"] = data[\"Vitesse_max_Route\"][data[\"Vitesse_max_Route\"] < 10] * 10"
   ],
   "outputs": [],
   "metadata": {}
  },
  {
   "cell_type": "code",
   "execution_count": 11,
   "source": [
    "data[\"Motif_Deplacer_Usager\"].value_counts()"
   ],
   "outputs": [
    {
     "output_type": "execute_result",
     "data": {
      "text/plain": [
       "5.0    95352\n",
       "1.0    34837\n",
       "4.0    25741\n",
       "9.0    18005\n",
       "3.0     5980\n",
       "2.0     4583\n",
       "Name: Motif_Deplacer_Usager, dtype: int64"
      ]
     },
     "metadata": {},
     "execution_count": 11
    }
   ],
   "metadata": {}
  },
  {
   "cell_type": "code",
   "execution_count": 12,
   "source": [
    "data[\"Motif_Deplacer_Usager\"].isna().sum()"
   ],
   "outputs": [
    {
     "output_type": "execute_result",
     "data": {
      "text/plain": [
       "68990"
      ]
     },
     "metadata": {},
     "execution_count": 12
    }
   ],
   "metadata": {}
  },
  {
   "cell_type": "code",
   "execution_count": 13,
   "source": [
    "data[\"Month\"].value_counts(normalize=True)"
   ],
   "outputs": [
    {
     "output_type": "execute_result",
     "data": {
      "text/plain": [
       "7     0.094265\n",
       "6     0.093720\n",
       "10    0.092028\n",
       "9     0.089551\n",
       "12    0.086288\n",
       "11    0.084801\n",
       "5     0.080765\n",
       "8     0.079282\n",
       "3     0.078631\n",
       "4     0.078039\n",
       "1     0.071802\n",
       "2     0.070828\n",
       "Name: Month, dtype: float64"
      ]
     },
     "metadata": {},
     "execution_count": 13
    }
   ],
   "metadata": {}
  },
  {
   "cell_type": "code",
   "execution_count": null,
   "source": [],
   "outputs": [],
   "metadata": {}
  },
  {
   "cell_type": "code",
   "execution_count": 11,
   "source": [
    "from sklearn.linear_model import LogisticRegression, SGDClassifier\r\n",
    "from sklearn.svm import SVC\r\n",
    "from sklearn.ensemble import RandomForestClassifier, AdaBoostClassifier\r\n",
    "from sklearn.pipeline import make_pipeline\r\n",
    "from sklearn.preprocessing import StandardScaler, OneHotEncoder\r\n",
    "from sklearn.neighbors import KNeighborsClassifier\r\n",
    "from sklearn.manifold import TSNE\r\n",
    "from sklearn.metrics import accuracy_score,precision_score,confusion_matrix,classification_report, precision_recall_curve"
   ],
   "outputs": [],
   "metadata": {}
  },
  {
   "cell_type": "code",
   "execution_count": 12,
   "source": [
    "from sklearn.compose import ColumnTransformer\r\n",
    "from sklearn.pipeline import Pipeline\r\n",
    "from sklearn.model_selection import train_test_split, GridSearchCV\r\n",
    "\r\n",
    "C = 10\r\n",
    "# Create different classifiers.\r\n",
    "classifiers = {\r\n",
    "#    'SGD Logistic': SGDClassifier(alpha=0.0001, max_iter=2000, loss=\"log\"),\r\n",
    "#    'Linear SVC': SVC(kernel='linear', C=C, probability=True,random_state=0),\r\n",
    "#    'KNN classifier': KNeighborsClassifier(C),\r\n",
    "#    'SVC': SVC(),\r\n",
    "    'RFST': RandomForestClassifier(n_estimators=100),\r\n",
    "    'ADA': AdaBoostClassifier(n_estimators=100)\r\n",
    "}\r\n",
    "\r\n",
    "num_attribs = [\"Age\", \"Nb_voie_Route\", \"Vitesse_max_Route\"]\r\n",
    "cat_attribs = [\"Sexe_Usager\", \"Equipement_Secu_Usager\", \"Departement_Acc\", \"Categorie_Vehicule\", \"Month\", \"Type_motorisation_Vehicule\", \"Categorie_Route\", \"Circulation_Route\", \"Surface_Route\", \"Lumiere_Acc\", \"Meteo_Acc\", \"Motif_Deplacer_Usager\"]\r\n",
    "\r\n",
    "num_pipeline = Pipeline([\r\n",
    "        ('std_scaler', StandardScaler()),\r\n",
    "    ])\r\n",
    "\r\n",
    "full_pipeline = ColumnTransformer([\r\n",
    "        (\"num\", num_pipeline, num_attribs),\r\n",
    "        (\"cat\", OneHotEncoder(), cat_attribs),\r\n",
    "    ])"
   ],
   "outputs": [],
   "metadata": {}
  },
  {
   "cell_type": "code",
   "execution_count": 37,
   "source": [
    "def train_model(x_train, y_train, x_test, y_test, output=True, filter=None, classifiers={ 'SGD Logistic': SGDClassifier(alpha=0.0001, max_iter=2000, loss=\"log\"), 'Linear SVC': SVC(kernel='linear', C=C, probability=True,random_state=0), 'KNN classifier': KNeighborsClassifier(C), 'SVC': SVC(), 'RFST': RandomForestClassifier(n_estimators=100), 'ADA': AdaBoostClassifier(n_estimators=100) }):\r\n",
    "    X_train = full_pipeline.fit_transform(x_train)\r\n",
    "\r\n",
    "    X_test = full_pipeline.transform(x_test)\r\n",
    "\r\n",
    "    n_classifiers = len(classifiers)\r\n",
    "    acc_list = []\r\n",
    "\r\n",
    "    for index, (name, classifier) in enumerate(classifiers.items()):\r\n",
    "        if (filter is not None and name not in filter):\r\n",
    "            continue\r\n",
    "        classifier.fit(X_train, np.ravel(y_train))\r\n",
    "\r\n",
    "        y_pred = classifier.predict(X_test)\r\n",
    "        accuracy = accuracy_score(y_test, y_pred)\r\n",
    "        acc_list.append(accuracy)\r\n",
    "        if (output == True or isinstance(output, list)):\r\n",
    "            if (output == True or \"accuracy\" in output):\r\n",
    "                print(\"Accuracy (train) for %s: %0.1f%% \" % (name, accuracy * 100))\r\n",
    "            if (output == True or \"report\" in output):\r\n",
    "                print(classification_report(y_test, y_pred))\r\n",
    "            if (output == True or \"matrix\" in output):\r\n",
    "                print(confusion_matrix(y_test, y_pred))\r\n",
    "    return acc_list, y_pred"
   ],
   "outputs": [],
   "metadata": {}
  },
  {
   "cell_type": "code",
   "execution_count": 14,
   "source": [
    "data_train = data[num_attribs + cat_attribs + [\"Gravblessure_Usager\"]].copy()"
   ],
   "outputs": [],
   "metadata": {}
  },
  {
   "cell_type": "code",
   "execution_count": 15,
   "source": [
    "data_train.dropna(inplace=True)"
   ],
   "outputs": [],
   "metadata": {}
  },
  {
   "cell_type": "code",
   "execution_count": 16,
   "source": [
    "data_train.reset_index(drop=True, inplace=True)"
   ],
   "outputs": [],
   "metadata": {}
  },
  {
   "cell_type": "code",
   "execution_count": 16,
   "source": [
    "X_train, X_test, y_train, y_test = train_test_split(data_train[num_attribs + cat_attribs], data_train[\"Gravblessure_Usager\"], test_size=0.33, random_state=42)"
   ],
   "outputs": [],
   "metadata": {}
  },
  {
   "cell_type": "code",
   "execution_count": 18,
   "source": [
    "train_model(X_train, y_train, X_test, y_test)"
   ],
   "outputs": [
    {
     "output_type": "stream",
     "name": "stdout",
     "text": [
      "Accuracy (train) for RFST: 77.2% \n",
      "              precision    recall  f1-score   support\n",
      "\n",
      "           1       0.81      0.87      0.84     25673\n",
      "           2       0.74      0.29      0.41      1350\n",
      "           3       0.69      0.55      0.61      8269\n",
      "           4       0.75      0.77      0.76     21645\n",
      "\n",
      "    accuracy                           0.77     56937\n",
      "   macro avg       0.75      0.62      0.66     56937\n",
      "weighted avg       0.77      0.77      0.77     56937\n",
      "\n",
      "[[22362    33   497  2781]\n",
      " [  273   388   442   247]\n",
      " [ 1244    68  4586  2371]\n",
      " [ 3816    35  1160 16634]]\n",
      "Accuracy (train) for ADA: 60.1% \n",
      "              precision    recall  f1-score   support\n",
      "\n",
      "           1       0.62      0.81      0.70     25673\n",
      "           2       0.36      0.02      0.03      1350\n",
      "           3       0.48      0.30      0.37      8269\n",
      "           4       0.60      0.51      0.55     21645\n",
      "\n",
      "    accuracy                           0.60     56937\n",
      "   macro avg       0.52      0.41      0.41     56937\n",
      "weighted avg       0.59      0.60      0.58     56937\n",
      "\n",
      "[[20726    10   688  4249]\n",
      " [  473    22   590   265]\n",
      " [ 2855    21  2454  2939]\n",
      " [ 9277     8  1352 11008]]\n"
     ]
    },
    {
     "output_type": "execute_result",
     "data": {
      "text/plain": [
       "([0.7722570560444, 0.6008395243866027],\n",
       " array([1, 4, 4, ..., 1, 3, 1], dtype=int64))"
      ]
     },
     "metadata": {},
     "execution_count": 18
    }
   ],
   "metadata": {}
  },
  {
   "cell_type": "code",
   "execution_count": 18,
   "source": [
    "def train_model_grid(x_train, y_train, output=True):\r\n",
    "    X_train = full_pipeline.fit_transform(x_train)\r\n",
    "    param_grid = { \r\n",
    "        'n_estimators': [200, 500],\r\n",
    "        'max_features': ['auto', 'sqrt', 'log2'],\r\n",
    "        'max_depth': [4,5,6,7,8],\r\n",
    "        'criterion': ['gini', 'entropy']\r\n",
    "    }\r\n",
    "    rfc = RandomForestClassifier(random_state=42)\r\n",
    "    CV_rfc = GridSearchCV(estimator=rfc, param_grid=param_grid, cv= 5)\r\n",
    "    CV_rfc.fit(X_train, y_train)\r\n",
    "    print(CV_rfc.best_params_)\r\n",
    "    return CV_rfc.best_params_"
   ],
   "outputs": [],
   "metadata": {}
  },
  {
   "cell_type": "code",
   "execution_count": 32,
   "source": [
    "from sklearn.model_selection import StratifiedShuffleSplit\r\n",
    "\r\n",
    "split = StratifiedShuffleSplit(n_splits=1,\r\n",
    "                               test_size=0.3, random_state=42)\r\n",
    "for train_index, test_index in split.split(data_train, data_train[\"Gravblessure_Usager\"]):\r\n",
    "    strat_train_set = data_train.loc[train_index]\r\n",
    "    strat_test_set = data_train.loc[test_index]"
   ],
   "outputs": [],
   "metadata": {}
  },
  {
   "cell_type": "code",
   "execution_count": 33,
   "source": [
    "X_train, X_test, y_train, y_test = train_test_split(strat_test_set, strat_test_set[\"Gravblessure_Usager\"], test_size=0.33, random_state=42)"
   ],
   "outputs": [],
   "metadata": {}
  },
  {
   "cell_type": "code",
   "execution_count": 34,
   "source": [
    "train_model(X_train, y_train, X_test, y_test)"
   ],
   "outputs": [
    {
     "output_type": "stream",
     "name": "stdout",
     "text": [
      "Accuracy (train) for RFST: 66.9% \n",
      "              precision    recall  f1-score   support\n",
      "\n",
      "           1       0.71      0.80      0.76      7811\n",
      "           2       0.48      0.10      0.16       402\n",
      "           3       0.54      0.37      0.44      2378\n",
      "           4       0.64      0.65      0.65      6491\n",
      "\n",
      "    accuracy                           0.67     17082\n",
      "   macro avg       0.59      0.48      0.50     17082\n",
      "weighted avg       0.66      0.67      0.66     17082\n",
      "\n",
      "[[6287    8  229 1287]\n",
      " [  94   40  157  111]\n",
      " [ 527   22  889  940]\n",
      " [1890   14  383 4204]]\n",
      "Accuracy (train) for ADA: 60.1% \n",
      "              precision    recall  f1-score   support\n",
      "\n",
      "           1       0.63      0.80      0.70      7811\n",
      "           2       0.13      0.02      0.04       402\n",
      "           3       0.48      0.31      0.38      2378\n",
      "           4       0.59      0.51      0.55      6491\n",
      "\n",
      "    accuracy                           0.60     17082\n",
      "   macro avg       0.46      0.41      0.42     17082\n",
      "weighted avg       0.58      0.60      0.58     17082\n",
      "\n",
      "[[6231   13  220 1347]\n",
      " [ 128    9  178   87]\n",
      " [ 781   31  738  828]\n",
      " [2771   16  417 3287]]\n"
     ]
    },
    {
     "output_type": "execute_result",
     "data": {
      "text/plain": [
       "([0.6685399836084768, 0.6009249502400187],\n",
       " array([1, 1, 1, ..., 1, 4, 1], dtype=int64))"
      ]
     },
     "metadata": {},
     "execution_count": 34
    }
   ],
   "metadata": {}
  },
  {
   "cell_type": "code",
   "execution_count": 35,
   "source": [
    "train_model_grid(X_train, y_train)"
   ],
   "outputs": [
    {
     "output_type": "stream",
     "name": "stdout",
     "text": [
      "{'criterion': 'gini', 'max_depth': 8, 'max_features': 'auto', 'n_estimators': 200}\n"
     ]
    },
    {
     "output_type": "execute_result",
     "data": {
      "text/plain": [
       "{'criterion': 'gini',\n",
       " 'max_depth': 8,\n",
       " 'max_features': 'auto',\n",
       " 'n_estimators': 200}"
      ]
     },
     "metadata": {},
     "execution_count": 35
    }
   ],
   "metadata": {}
  },
  {
   "cell_type": "code",
   "execution_count": 39,
   "source": [
    "X_train, X_test, y_train, y_test = train_test_split(data_train[num_attribs + cat_attribs], data_train[\"Gravblessure_Usager\"], test_size=0.33, random_state=42)"
   ],
   "outputs": [],
   "metadata": {}
  },
  {
   "cell_type": "code",
   "execution_count": 43,
   "source": [
    "model = RandomForestClassifier(n_estimators=200)\r\n",
    "train_model(X_train, y_train, X_test, y_test, classifiers={'RFST': model})"
   ],
   "outputs": [
    {
     "output_type": "stream",
     "name": "stdout",
     "text": [
      "Accuracy (train) for RFST: 77.3% \n",
      "              precision    recall  f1-score   support\n",
      "\n",
      "           1       0.81      0.87      0.84     25673\n",
      "           2       0.75      0.28      0.41      1350\n",
      "           3       0.69      0.56      0.61      8269\n",
      "           4       0.76      0.77      0.76     21645\n",
      "\n",
      "    accuracy                           0.77     56937\n",
      "   macro avg       0.75      0.62      0.66     56937\n",
      "weighted avg       0.77      0.77      0.77     56937\n",
      "\n",
      "[[22322    33   503  2815]\n",
      " [  272   382   444   252]\n",
      " [ 1257    64  4596  2352]\n",
      " [ 3749    32  1149 16715]]\n"
     ]
    },
    {
     "output_type": "execute_result",
     "data": {
      "text/plain": [
       "([0.7730474032702812], array([1, 4, 4, ..., 1, 3, 1], dtype=int64))"
      ]
     },
     "metadata": {},
     "execution_count": 43
    }
   ],
   "metadata": {}
  },
  {
   "cell_type": "code",
   "execution_count": 45,
   "source": [
    "from joblib import dump\r\n",
    "\r\n",
    "dump(model, \"save_model/model_gravite.joblib\")"
   ],
   "outputs": [
    {
     "output_type": "execute_result",
     "data": {
      "text/plain": [
       "['save_model/model_gravite.joblib']"
      ]
     },
     "metadata": {},
     "execution_count": 45
    }
   ],
   "metadata": {}
  },
  {
   "cell_type": "code",
   "execution_count": 79,
   "source": [
    "d_test = pd.DataFrame([[22, 3, 90.0, 1, 1.0, '94', 7, 11, 1.0, 1.0, 1.0, 1.0, 3, 1.0, 5.0, 1]], columns=data_train.columns)"
   ],
   "outputs": [],
   "metadata": {}
  },
  {
   "cell_type": "code",
   "execution_count": 81,
   "source": [
    "d_test = full_pipeline.transform(d_test)\r\n",
    "model.predict(d_test)"
   ],
   "outputs": [
    {
     "output_type": "execute_result",
     "data": {
      "text/plain": [
       "array([1], dtype=int64)"
      ]
     },
     "metadata": {},
     "execution_count": 81
    }
   ],
   "metadata": {}
  },
  {
   "cell_type": "code",
   "execution_count": null,
   "source": [
    "\r\n"
   ],
   "outputs": [],
   "metadata": {}
  }
 ],
 "metadata": {
  "orig_nbformat": 4,
  "language_info": {
   "name": "python",
   "version": "3.9.5",
   "mimetype": "text/x-python",
   "codemirror_mode": {
    "name": "ipython",
    "version": 3
   },
   "pygments_lexer": "ipython3",
   "nbconvert_exporter": "python",
   "file_extension": ".py"
  },
  "kernelspec": {
   "name": "python3",
   "display_name": "Python 3.9.5 64-bit"
  },
  "interpreter": {
   "hash": "fef6fb134ebea4b975d54b512b30a3901a3cdb5836dbe0c48bb9b42377457675"
  }
 },
 "nbformat": 4,
 "nbformat_minor": 2
}